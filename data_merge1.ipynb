{
 "cells": [
  {
   "cell_type": "code",
   "execution_count": 1,
   "id": "f2d8f892-1a4c-4323-8c9d-3fae2f0c68a8",
   "metadata": {},
   "outputs": [],
   "source": [
    "import shutil\n",
    "import argparse\n",
    "import subprocess\n",
    "import os\n",
    "import tqdm\n",
    "# import apex.amp as amp\n",
    "import time\n",
    "import json\n",
    "import pprint"
   ]
  },
  {
   "cell_type": "code",
   "execution_count": 2,
   "id": "033d755d-54f0-47af-84bf-2a1e66b42e23",
   "metadata": {},
   "outputs": [
    {
     "name": "stdout",
     "output_type": "stream",
     "text": [
      "dict_keys(['info', 'licenses', 'images', 'annotations', 'categories'])\n"
     ]
    }
   ],
   "source": [
    "annotations_file = 'coco/annotations/instances_train2017.json'\n",
    "category_name = 'person'\n",
    "with open(annotations_file, 'r') as f:\n",
    "    data = json.load(f)\n",
    "    print(data.keys())\n",
    "#     for c in data['categories'] :\n",
    "#         print(c['name'])\n",
    "\n",
    "    cat = [c for c in data['categories']][0]"
   ]
  },
  {
   "cell_type": "code",
   "execution_count": null,
   "id": "f34205f3-1360-4c95-aa46-17d8329f052a",
   "metadata": {},
   "outputs": [],
   "source": []
  },
  {
   "cell_type": "code",
   "execution_count": null,
   "id": "710e9a04-16ff-40a8-a1c8-8740867f3352",
   "metadata": {},
   "outputs": [],
   "source": []
  },
  {
   "cell_type": "code",
   "execution_count": null,
   "id": "498bd638-3a79-4940-a3b6-c2b9fb0c35ed",
   "metadata": {},
   "outputs": [],
   "source": []
  },
  {
   "cell_type": "code",
   "execution_count": null,
   "id": "da8f34db-7d6f-4ef6-b2be-c4ef940f8473",
   "metadata": {},
   "outputs": [],
   "source": []
  },
  {
   "cell_type": "code",
   "execution_count": 3,
   "id": "acb86dc6-07f3-400b-b5d9-71264397b9c5",
   "metadata": {},
   "outputs": [],
   "source": [
    "class ReducedDataAnno() :\n",
    "    def __init__(self, annfile, src_dir, dst_dir, new_anno, dev=100):\n",
    "        self.annfile = annfile\n",
    "        self.dev = dev\n",
    "        self.category_name = 'person'\n",
    "        self.image_list = []\n",
    "        self.anno_list = []\n",
    "        self.file_name_list = []\n",
    "        \n",
    "        self.src_dir = src_dir\n",
    "        self.dst_dir = dst_dir\n",
    "        self.new_anno = new_anno\n",
    "\n",
    "        with open(self.annfile, 'r') as f:\n",
    "            self.data = json.load(f)\n",
    "            print(self.data.keys())\n",
    "            \n",
    "            self.data['categories'][0]['id'] = 1\n",
    "            self.data['categories'][0]['name'] = 'person'\n",
    "            self.data['categories'][0]['supercategory'] = 'person'\n",
    "            # print(data['categories'][0])\n",
    "\n",
    "            for c in self.data['categories'] :\n",
    "                print(c['name'])\n",
    "\n",
    "            cat = [c for c in self.data['categories']][0]   \n",
    "            \n",
    "    def get_anno(self) :\n",
    "        \n",
    "        for image in self.data['images'] :\n",
    "            if image['id'] % self.dev == 0 :\n",
    "                self.image_list.append(image)\n",
    "\n",
    "        for anno in self.data['annotations'] :\n",
    "            if anno['id'] % self.dev == 0 :\n",
    "                self.anno_list.append(anno)    \n",
    "\n",
    "        for i, image in enumerate(self.image_list) :\n",
    "            # print(i)\n",
    "            self.image_list[i]['id'] = int(image['id'] / self.dev)\n",
    "\n",
    "        for i, anno in enumerate(self.anno_list) :\n",
    "            # print(i)\n",
    "            self.anno_list[i]['image_id'] = int(anno['image_id'] / self.dev)    \n",
    "\n",
    "        for i, anno in enumerate(self.anno_list) :\n",
    "            # print(i)\n",
    "            self.anno_list[i]['id'] = i              \n",
    "\n",
    "        self.data['images'] = self.image_list\n",
    "        self.data['annotations'] = self.anno_list   \n",
    "        \n",
    "        with open(self.new_anno, 'w') as outfile:\n",
    "            json.dump(self.data, outfile)        \n",
    "        \n",
    "    def copy_files(self) :\n",
    "\n",
    "        for image in self.data['images'] :\n",
    "            self.file_name_list.append(image['file_name'])    \n",
    "            \n",
    "        for file in self.file_name_list :\n",
    "            src = self.src_dir + file\n",
    "            dst = self.dst_dir + file\n",
    "            shutil.copyfile(src, dst)      \n",
    "            \n",
    "    def __call__(self):\n",
    "        self.get_anno()\n",
    "        self.copy_files()\n"
   ]
  },
  {
   "cell_type": "code",
   "execution_count": 4,
   "id": "11ab4c2d-d210-4dac-a2dd-55421aeee761",
   "metadata": {},
   "outputs": [
    {
     "name": "stdout",
     "output_type": "stream",
     "text": [
      "dict_keys(['info', 'images', 'annotations', 'licenses', 'categories'])\n",
      "person\n"
     ]
    }
   ],
   "source": [
    "# naju train\n",
    "annfile = 'inter/annotations/naju_train_update.json'\n",
    "src_dir = 'inter/images/'\n",
    "dst_dir = 'inter/reduced/train/'\n",
    "new_anno = 'inter/reduced/annotations/naju_train.json'\n",
    "\n",
    "os.makedirs(dst_dir, exist_ok=True)\n",
    "os.makedirs('/'.join(new_anno.split('/')[:-1]), exist_ok=True)\n",
    "\n",
    "reduced_train = ReducedDataAnno(annfile, src_dir, dst_dir, new_anno, dev=20)\n",
    "reduced_train()"
   ]
  },
  {
   "cell_type": "code",
   "execution_count": null,
   "id": "924fb7b0-0079-4092-87d8-3dc3b959a986",
   "metadata": {},
   "outputs": [],
   "source": []
  },
  {
   "cell_type": "code",
   "execution_count": 5,
   "id": "8bff8c43-a1f5-46ef-9818-8f26e8a62752",
   "metadata": {},
   "outputs": [
    {
     "name": "stdout",
     "output_type": "stream",
     "text": [
      "dict_keys(['info', 'images', 'annotations', 'licenses', 'categories'])\n",
      "person\n"
     ]
    }
   ],
   "source": [
    "# naju test\n",
    "annfile = 'inter/annotations/naju_test_update.json'\n",
    "src_dir = 'inter/images/'\n",
    "dst_dir = 'inter/reduced/val/'\n",
    "new_anno = 'inter/reduced/annotations/naju_test.json'\n",
    "\n",
    "os.makedirs(dst_dir, exist_ok=True)\n",
    "os.makedirs('/'.join(new_anno.split('/')[:-1]), exist_ok=True)\n",
    "\n",
    "reduced_train = ReducedDataAnno(annfile, src_dir, dst_dir, new_anno, dev=20)\n",
    "reduced_train()\n"
   ]
  },
  {
   "cell_type": "code",
   "execution_count": 21,
   "id": "6849ce20-b2d4-4161-a0aa-0f10f32d0570",
   "metadata": {},
   "outputs": [
    {
     "name": "stdout",
     "output_type": "stream",
     "text": [
      "dict_keys(['info', 'images', 'annotations', 'licenses', 'categories'])\n",
      "{'id': 1, 'name': 'person', 'supercategory': 'person', 'keypoints': ['right_wrist', 'right_elbow', 'right_shoulder', 'head', 'left_shoulder', 'left_elbow', 'left_wrist'], 'skeleton': [[1, 2], [2, 3], [3, 4], [4, 5], [5, 6], [6, 7], [3, 5]]}\n",
      "InterMinds 7 Point.\n"
     ]
    }
   ],
   "source": [
    "# # showroom train\n",
    "# annfile = 'inter/annotations/showroom_0825_train.json'\n",
    "# src_dir = '/home/beomgon/dataset/inter/images/'\n",
    "# dst_dir = '/home/beomgon/dataset/reduced_inter/showroom_images/train/'\n",
    "# new_anno = '/home/beomgon/dataset/reduced_inter/annotations/showroom_train.json'\n",
    "# reduced_train = ReducedDataAnno(annfile, src_dir, dst_dir, new_anno)\n",
    "# reduced_train()"
   ]
  },
  {
   "cell_type": "code",
   "execution_count": 22,
   "id": "a7a3e765-91c1-4ff8-9b27-38bdbf6e8f97",
   "metadata": {},
   "outputs": [],
   "source": [
    "# annfile"
   ]
  },
  {
   "cell_type": "code",
   "execution_count": 23,
   "id": "5847d251-5211-4b4d-b70c-c1c03eb52e04",
   "metadata": {},
   "outputs": [
    {
     "name": "stdout",
     "output_type": "stream",
     "text": [
      "dict_keys(['info', 'images', 'annotations', 'licenses', 'categories'])\n",
      "{'id': 1, 'name': 'person', 'supercategory': 'person', 'keypoints': ['right_wrist', 'right_elbow', 'right_shoulder', 'head', 'left_shoulder', 'left_elbow', 'left_wrist'], 'skeleton': [[1, 2], [2, 3], [3, 4], [4, 5], [5, 6], [6, 7], [3, 5]]}\n",
      "InterMinds 7 Point.\n"
     ]
    }
   ],
   "source": [
    "# # showroom test\n",
    "# annfile = 'inter/annotations/showroom_0825_test.json'\n",
    "# src_dir = '/home/beomgon/dataset/inter/images/'\n",
    "# dst_dir = '/home/beomgon/dataset/reduced_inter/showroom_images/val/'\n",
    "# new_anno = '/home/beomgon/dataset/reduced_inter/annotations/showroom_val.json'\n",
    "# reduced_train = ReducedDataAnno(annfile, src_dir, dst_dir, new_anno)\n",
    "# reduced_train()"
   ]
  },
  {
   "cell_type": "code",
   "execution_count": 2,
   "id": "5de87a48-9647-4fe1-8a66-1b29405b52bd",
   "metadata": {},
   "outputs": [],
   "source": [
    "# !pip install coco_assistant"
   ]
  },
  {
   "cell_type": "code",
   "execution_count": 19,
   "id": "daa513d6-69bd-48ba-a586-7c0473d4b651",
   "metadata": {},
   "outputs": [],
   "source": [
    "# from coco_assistant import COCO_Assistant"
   ]
  },
  {
   "cell_type": "code",
   "execution_count": 8,
   "id": "a4e5f33a-ffce-4faf-9b24-f5e9de4e7157",
   "metadata": {},
   "outputs": [],
   "source": [
    "# merge train data\n",
    "# from coco_assistant import COCO_Assistant\n",
    "# there was a bug\n",
    "# train_dir = '/home/beomgon/dataset/total/train/'\n",
    "# train_img_dir = train_dir + 'images'\n",
    "# train_ann_dir = train_dir + 'annotations'\n",
    "# cas = COCO_Assistant(train_img_dir, train_ann_dir)\n",
    "# cas.merge()"
   ]
  },
  {
   "cell_type": "code",
   "execution_count": null,
   "id": "b8ad0fc1-4dfe-4441-860c-0d5ca001f0fc",
   "metadata": {},
   "outputs": [],
   "source": []
  },
  {
   "cell_type": "code",
   "execution_count": null,
   "id": "f0bde515-ad04-4f3a-a68b-10fb6f6c2008",
   "metadata": {},
   "outputs": [],
   "source": [
    "# above tools got bug\n",
    "# use below\n",
    "# source compile\n",
    "# pyodi coco merge coco_1.json coco_2.json output.json"
   ]
  }
 ],
 "metadata": {
  "kernelspec": {
   "display_name": "pytorch",
   "language": "python",
   "name": "pytorch"
  },
  "language_info": {
   "codemirror_mode": {
    "name": "ipython",
    "version": 3
   },
   "file_extension": ".py",
   "mimetype": "text/x-python",
   "name": "python",
   "nbconvert_exporter": "python",
   "pygments_lexer": "ipython3",
   "version": "3.8.13"
  }
 },
 "nbformat": 4,
 "nbformat_minor": 5
}
